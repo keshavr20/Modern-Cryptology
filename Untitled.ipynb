{
 "cells": [
  {
   "cell_type": "code",
   "execution_count": null,
   "id": "03c12310",
   "metadata": {},
   "outputs": [],
   "source": [
    "import subprocess\n",
    "import time\n",
    "\n",
    "# open SSH session using subprocess\n",
    "ssh = subprocess.Popen([\"ssh\", \"student@172.27.26.188\"], stdin=subprocess.PIPE, stdout=subprocess.PIPE, stderr=subprocess.PIPE, universal_newlines=True)\n",
    "\n",
    "# send password\n",
    "ssh.stdin.write(\"cs641\\n\")\n",
    "ssh.stdin.flush()\n",
    "\n",
    "# send group name\n",
    "ssh.stdin.write(\"ela\\n\")\n",
    "ssh.stdin.flush()\n",
    "\n",
    "# send password\n",
    "ssh.stdin.write(\"cryptology\\n\")\n",
    "ssh.stdin.flush()\n",
    "\n",
    "# send level number\n",
    "ssh.stdin.write(\"4\\n\")\n",
    "ssh.stdin.flush()\n",
    "\n",
    "# open plaintexts file and write ciphertexts to new file\n",
    "with open(\"plaintexts.txt\", \"r\") as plaintexts_file, open(\"ciphertexts.txt\", \"w\") as ciphertexts_file:\n",
    "    for line in plaintexts_file:\n",
    "        # send plaintext\n",
    "        ssh.stdin.write(line)\n",
    "        ssh.stdin.flush()\n",
    "\n",
    "        # wait for response\n",
    "        output = \"\"\n",
    "        start_time = time.time()\n",
    "        while \"Slowly, a new text starts\" not in output and time.time() - start_time < 30:\n",
    "            output = ssh.stdout.readline()\n",
    "            print(output)\n",
    "\n",
    "        # write ciphertext to file\n",
    "        ciphertext = output.strip()[73:89] + \"\\n\"\n",
    "        ciphertexts_file.write(ciphertext)\n",
    "\n",
    "        # send \"c\" command to clear screen\n",
    "        ssh.stdin.write(\"c\\n\")\n",
    "        ssh.stdin.flush()\n",
    "\n",
    "        # wait for response\n",
    "        output = \"\"\n",
    "        start_time = time.time()\n",
    "        while \"The text in the screen vanishes\" not in output and time.time() - start_time < 30:\n",
    "            output = ssh.stdout.readline()\n",
    "            print(output)\n"
   ]
  },
  {
   "cell_type": "code",
   "execution_count": null,
   "id": "2dffb0c5",
   "metadata": {},
   "outputs": [],
   "source": [
    "pip install paramiko"
   ]
  },
  {
   "cell_type": "code",
   "execution_count": null,
   "id": "86b2bf07",
   "metadata": {},
   "outputs": [],
   "source": [
    "pip list"
   ]
  },
  {
   "cell_type": "code",
   "execution_count": null,
   "id": "33d25a58",
   "metadata": {},
   "outputs": [],
   "source": []
  }
 ],
 "metadata": {
  "kernelspec": {
   "display_name": "Python 3 (ipykernel)",
   "language": "python",
   "name": "python3"
  },
  "language_info": {
   "codemirror_mode": {
    "name": "ipython",
    "version": 3
   },
   "file_extension": ".py",
   "mimetype": "text/x-python",
   "name": "python",
   "nbconvert_exporter": "python",
   "pygments_lexer": "ipython3",
   "version": "3.10.2"
  }
 },
 "nbformat": 4,
 "nbformat_minor": 5
}
